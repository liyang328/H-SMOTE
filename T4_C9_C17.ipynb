{
 "cells": [
  {
   "cell_type": "code",
   "execution_count": 1,
   "metadata": {
    "scrolled": false
   },
   "outputs": [],
   "source": [
    "%matplotlib inline\n",
    "import numpy as np\n",
    "import matplotlib.pyplot as plt\n",
    "from sklearn.svm import SVC\n",
    "from imblearn.over_sampling import SMOTE\n",
    "from sklearn.metrics import roc_curve, auc\n",
    "from sklearn.metrics import accuracy_score\n",
    "from sklearn.metrics import classification_report\n",
    "from sklearn.ensemble import RandomForestClassifier\n",
    "from sklearn.model_selection import train_test_split"
   ]
  },
  {
   "cell_type": "code",
   "execution_count": 2,
   "metadata": {},
   "outputs": [
    {
     "name": "stdout",
     "output_type": "stream",
     "text": [
      "(689, 7)\n",
      "(58, 7)\n"
     ]
    }
   ],
   "source": [
    "X_more=np.loadtxt('data/C9_689.txt')\n",
    "X_few=np.loadtxt('data/C17_58.txt')\n",
    "print(X_more.shape)\n",
    "print(X_few.shape)"
   ]
  },
  {
   "cell_type": "code",
   "execution_count": 3,
   "metadata": {},
   "outputs": [],
   "source": [
    "Y_few=np.zeros([X_few.shape[0],])\n",
    "Y_more=np.ones([X_more.shape[0],])\n",
    "X_old=np.concatenate([X_few,X_more])\n",
    "Y_old=np.concatenate([Y_few,Y_more])"
   ]
  },
  {
   "cell_type": "code",
   "execution_count": 4,
   "metadata": {},
   "outputs": [],
   "source": [
    "x_train, x_test, y_train, y_test = train_test_split(X_old, Y_old, test_size=.3)"
   ]
  },
  {
   "cell_type": "code",
   "execution_count": 5,
   "metadata": {},
   "outputs": [
    {
     "name": "stdout",
     "output_type": "stream",
     "text": [
      "              precision    recall  f1-score   support\n",
      "\n",
      "         0.0       0.71      0.59      0.65        17\n",
      "         1.0       0.97      0.98      0.97       208\n",
      "\n",
      "    accuracy                           0.95       225\n",
      "   macro avg       0.84      0.78      0.81       225\n",
      "weighted avg       0.95      0.95      0.95       225\n",
      "\n",
      "ACC: 0.9511111111111111\n",
      "AUC_SVM_ORIGIN: 0.7845022624434389\n",
      "G-Mean: 0.7595545253127499\n"
     ]
    }
   ],
   "source": [
    "model = SVC(kernel='linear', C=1E10)\n",
    "model.fit(x_train, y_train)\n",
    "y_pred = model.predict(x_test)\n",
    "print(classification_report(y_test,y_pred))\n",
    "print('ACC:',accuracy_score(y_test,y_pred))\n",
    "false_positive_rate_s, true_positive_rate_s, thresholds = roc_curve(y_test,y_pred)\n",
    "roc_auc_svm = auc(false_positive_rate_s, true_positive_rate_s)\n",
    "print('AUC_SVM_ORIGIN:',roc_auc_svm)\n",
    "tpr=true_positive_rate_s[1]\n",
    "fpr=false_positive_rate_s[1]\n",
    "tnr=1-fpr\n",
    "g_mean=np.sqrt(tpr*tnr)\n",
    "print('G-Mean:',g_mean)"
   ]
  },
  {
   "cell_type": "code",
   "execution_count": 6,
   "metadata": {},
   "outputs": [
    {
     "name": "stdout",
     "output_type": "stream",
     "text": [
      "              precision    recall  f1-score   support\n",
      "\n",
      "         0.0       0.83      0.29      0.43        17\n",
      "         1.0       0.95      1.00      0.97       208\n",
      "\n",
      "    accuracy                           0.94       225\n",
      "   macro avg       0.89      0.64      0.70       225\n",
      "weighted avg       0.94      0.94      0.93       225\n",
      "\n",
      "ACC: 0.9422222222222222\n",
      "AUC_RF_ORIGIN: 0.6446549773755657\n",
      "G-Mean: 0.5410209052425814\n"
     ]
    }
   ],
   "source": [
    "model = RandomForestClassifier(n_estimators=100)\n",
    "model.fit(x_train, y_train)\n",
    "y_pred = model.predict(x_test)\n",
    "print(classification_report(y_test,y_pred))\n",
    "print('ACC:',accuracy_score(y_test,y_pred))\n",
    "false_positive_rate_r, true_positive_rate_r, thresholds = roc_curve(y_test,y_pred)\n",
    "roc_auc_rf = auc(false_positive_rate_r, true_positive_rate_r)\n",
    "print('AUC_RF_ORIGIN:',roc_auc_rf)\n",
    "tpr=true_positive_rate_r[1]\n",
    "fpr=false_positive_rate_r[1]\n",
    "tnr=1-fpr\n",
    "g_mean=np.sqrt(tpr*tnr)\n",
    "print('G-Mean:',g_mean)"
   ]
  },
  {
   "cell_type": "code",
   "execution_count": 7,
   "metadata": {},
   "outputs": [
    {
     "name": "stdout",
     "output_type": "stream",
     "text": [
      "[0.60103448 0.47534483 0.17396552 1.23432759 0.46705172 0.25123276\n",
      " 0.39341379]\n"
     ]
    }
   ],
   "source": [
    "center=np.mean(X_few,0)\n",
    "print(center)"
   ]
  },
  {
   "cell_type": "code",
   "execution_count": 8,
   "metadata": {
    "scrolled": true
   },
   "outputs": [
    {
     "name": "stdout",
     "output_type": "stream",
     "text": [
      "Non-duplicate items： 986\n"
     ]
    }
   ],
   "source": [
    "np.random.seed(1)\n",
    "while True:\n",
    "    X_new=np.zeros((X_more.shape[0]*2,7))\n",
    "    for j in range(X_few.shape[0]):\n",
    "        X_new[j]=X_few[j]+0.5*(center-X_few[j])\n",
    "        X_new[j+X_few.shape[0]]=X_few[j]\n",
    "    for i in range(X_more.shape[0]*2-X_few.shape[0]*2):\n",
    "        while True:\n",
    "            ind1 = np.random.randint(X_few.shape[0])\n",
    "            ind2 = np.random.randint(X_few.shape[0])\n",
    "            if ind1!= ind2:\n",
    "                break\n",
    "        X_new[i+X_few.shape[0]*2]=X_new[ind1]+0.5*(X_new[ind2]-X_new[ind1])\n",
    "    A=np.array(list(set([tuple(t) for t in X_new])))\n",
    "    if A.shape[0]>=X_more.shape[0]:\n",
    "        break\n",
    "print('Non-duplicate items：',A.shape[0])"
   ]
  },
  {
   "cell_type": "code",
   "execution_count": 9,
   "metadata": {},
   "outputs": [
    {
     "data": {
      "text/plain": [
       "(689, 7)"
      ]
     },
     "execution_count": 9,
     "metadata": {},
     "output_type": "execute_result"
    }
   ],
   "source": [
    "X_new=A[:X_more.shape[0]]\n",
    "X_new.shape"
   ]
  },
  {
   "cell_type": "code",
   "execution_count": 10,
   "metadata": {},
   "outputs": [
    {
     "data": {
      "text/plain": [
       "(1378,)"
      ]
     },
     "execution_count": 10,
     "metadata": {},
     "output_type": "execute_result"
    }
   ],
   "source": [
    "X=np.concatenate([X_new,X_more])\n",
    "Y_new = np.zeros([X_more.shape[0],])\n",
    "Y=np.concatenate([Y_new,Y_more])\n",
    "Y.shape"
   ]
  },
  {
   "cell_type": "code",
   "execution_count": 11,
   "metadata": {},
   "outputs": [],
   "source": [
    "x_train, x_test, y_train, y_test = train_test_split(X, Y, test_size=.3)"
   ]
  },
  {
   "cell_type": "code",
   "execution_count": 12,
   "metadata": {},
   "outputs": [
    {
     "name": "stdout",
     "output_type": "stream",
     "text": [
      "              precision    recall  f1-score   support\n",
      "\n",
      "         0.0       0.99      0.98      0.98       207\n",
      "         1.0       0.98      0.99      0.98       207\n",
      "\n",
      "    accuracy                           0.98       414\n",
      "   macro avg       0.98      0.98      0.98       414\n",
      "weighted avg       0.98      0.98      0.98       414\n",
      "\n",
      "ACC: 0.9830917874396136\n",
      "AUC_SVM_OUR: 0.9830917874396135\n",
      "G-Mean: 0.9830650805284046\n"
     ]
    }
   ],
   "source": [
    "model = SVC(kernel='linear', C=1E10)\n",
    "model.fit(x_train, y_train)\n",
    "y_pred = model.predict(x_test)\n",
    "print(classification_report(y_test,y_pred))\n",
    "print('ACC:',accuracy_score(y_test,y_pred))\n",
    "false_positive_rate_s1, true_positive_rate_s1, thresholds = roc_curve(y_test,y_pred)\n",
    "roc_auc_svm_1 = auc(false_positive_rate_s1, true_positive_rate_s1)\n",
    "print('AUC_SVM_OUR:',roc_auc_svm_1)\n",
    "tpr=true_positive_rate_s1[1]\n",
    "fpr=false_positive_rate_s1[1]\n",
    "tnr=1-fpr\n",
    "g_mean=np.sqrt(tpr*tnr)\n",
    "print('G-Mean:',g_mean)"
   ]
  },
  {
   "cell_type": "code",
   "execution_count": 13,
   "metadata": {},
   "outputs": [
    {
     "name": "stdout",
     "output_type": "stream",
     "text": [
      "              precision    recall  f1-score   support\n",
      "\n",
      "         0.0       0.99      0.96      0.97       207\n",
      "         1.0       0.96      0.99      0.97       207\n",
      "\n",
      "    accuracy                           0.97       414\n",
      "   macro avg       0.97      0.97      0.97       414\n",
      "weighted avg       0.97      0.97      0.97       414\n",
      "\n",
      "ACC: 0.9734299516908212\n",
      "AUC_RF_OUR: 0.9734299516908212\n",
      "G-Mean: 0.97328309509454\n"
     ]
    }
   ],
   "source": [
    "model = RandomForestClassifier(n_estimators=100)\n",
    "model.fit(x_train, y_train)\n",
    "y_pred = model.predict(x_test)\n",
    "print(classification_report(y_test,y_pred))\n",
    "print('ACC:',accuracy_score(y_test,y_pred))\n",
    "false_positive_rate_r1, true_positive_rate_r1, thresholds = roc_curve(y_test,y_pred)\n",
    "roc_auc_rf_1 = auc(false_positive_rate_r1, true_positive_rate_r1)\n",
    "print('AUC_RF_OUR:',roc_auc_rf_1)\n",
    "tpr=true_positive_rate_r1[1]\n",
    "fpr=false_positive_rate_r1[1]\n",
    "tnr=1-fpr\n",
    "g_mean=np.sqrt(tpr*tnr)\n",
    "print('G-Mean:',g_mean)"
   ]
  },
  {
   "cell_type": "code",
   "execution_count": 14,
   "metadata": {},
   "outputs": [
    {
     "name": "stdout",
     "output_type": "stream",
     "text": [
      "              precision    recall  f1-score   support\n",
      "\n",
      "         0.0       0.90      0.92      0.91       202\n",
      "         1.0       0.92      0.91      0.91       212\n",
      "\n",
      "    accuracy                           0.91       414\n",
      "   macro avg       0.91      0.91      0.91       414\n",
      "weighted avg       0.91      0.91      0.91       414\n",
      "\n",
      "ACC: 0.9106280193236715\n",
      "AUC_SVM_SMOTE: 0.9107509807584533\n",
      "G-Mean: 0.9107367537930534\n"
     ]
    }
   ],
   "source": [
    "smo = SMOTE()\n",
    "Xs, Ys = smo.fit_sample(X_old,Y_old)\n",
    "x_train, x_test, y_train, y_test = train_test_split(Xs, Ys, test_size=.3, random_state=1)\n",
    "model = SVC(kernel='linear', C=1E10)\n",
    "model.fit(x_train, y_train)\n",
    "y_pred = model.predict(x_test)\n",
    "print(classification_report(y_test,y_pred))\n",
    "print('ACC:',accuracy_score(y_test,y_pred))\n",
    "false_positive_rate_s2, true_positive_rate_s2, thresholds = roc_curve(y_test,y_pred)\n",
    "roc_auc_svm_2 = auc(false_positive_rate_s2, true_positive_rate_s2)\n",
    "print('AUC_SVM_SMOTE:',roc_auc_svm_2)\n",
    "tpr=true_positive_rate_s2[1]\n",
    "fpr=false_positive_rate_s2[1]\n",
    "tnr=1-fpr\n",
    "g_mean=np.sqrt(tpr*tnr)\n",
    "print('G-Mean:',g_mean)"
   ]
  },
  {
   "cell_type": "code",
   "execution_count": 15,
   "metadata": {},
   "outputs": [
    {
     "name": "stdout",
     "output_type": "stream",
     "text": [
      "              precision    recall  f1-score   support\n",
      "\n",
      "         0.0       0.94      0.99      0.96       202\n",
      "         1.0       0.99      0.94      0.96       212\n",
      "\n",
      "    accuracy                           0.96       414\n",
      "   macro avg       0.96      0.96      0.96       414\n",
      "weighted avg       0.97      0.96      0.96       414\n",
      "\n",
      "ACC: 0.9637681159420289\n",
      "AUC_RF_SMOTE: 0.9643891275920045\n",
      "G-Mean: 0.9640463637031808\n"
     ]
    }
   ],
   "source": [
    "model = RandomForestClassifier(n_estimators=100)\n",
    "model.fit(x_train, y_train)\n",
    "y_pred = model.predict(x_test)\n",
    "print(classification_report(y_test,y_pred))\n",
    "print('ACC:',accuracy_score(y_test,y_pred))\n",
    "false_positive_rate_r2, true_positive_rate_r2, thresholds = roc_curve(y_test,y_pred)\n",
    "roc_auc_rf_2 = auc(false_positive_rate_r2, true_positive_rate_r2)\n",
    "print('AUC_RF_SMOTE:',roc_auc_rf_2)\n",
    "tpr=true_positive_rate_r2[1]\n",
    "fpr=false_positive_rate_r2[1]\n",
    "tnr=1-fpr\n",
    "g_mean=np.sqrt(tpr*tnr)\n",
    "print('G-Mean:',g_mean)"
   ]
  },
  {
   "cell_type": "code",
   "execution_count": 16,
   "metadata": {},
   "outputs": [
    {
     "name": "stdout",
     "output_type": "stream",
     "text": [
      "Off-centering\n",
      "Ours: 0.0036776711655375775\n",
      "SMOTE: 0.013800974759237944\n"
     ]
    }
   ],
   "source": [
    "center1=np.mean(X_new,0)\n",
    "center2=np.mean(Xs[Y_old.shape[0]:],0)\n",
    "op1=np.linalg.norm(center1-center)\n",
    "op2=np.linalg.norm(center2-center)\n",
    "print('Off-centering')\n",
    "print('Ours:',op1)\n",
    "print('SMOTE:',op2)"
   ]
  },
  {
   "cell_type": "code",
   "execution_count": 17,
   "metadata": {},
   "outputs": [
    {
     "data": {
      "image/png": "[encoded data removed]",
      "text/plain": [
       "<Figure size 432x288 with 1 Axes>"
      ]
     },
     "metadata": {
      "needs_background": "light"
     },
     "output_type": "display_data"
    }
   ],
   "source": [
    "#Plot ROC Curve with SVM\n",
    "plt.title('Receiver Operating Characteristic with SVM')\n",
    "plt.plot(false_positive_rate_s1, true_positive_rate_s1, 'k',label='H-SMOTE AUC = %0.2f'% roc_auc_svm_1)\n",
    "plt.plot(false_positive_rate_s2, true_positive_rate_s2, 'b',label='SMOTE AUC = %0.2f'% roc_auc_svm_2)\n",
    "plt.plot(false_positive_rate_s, true_positive_rate_s, 'm',label='Original AUC = %0.2f'% roc_auc_svm)\n",
    "plt.legend(loc='lower right')\n",
    "plt.plot([0,1],[0,1],'r--')\n",
    "plt.ylabel('True Positive Rate')\n",
    "plt.xlabel('False Positive Rate')\n",
    "plt.xlim(0,1)\n",
    "plt.ylim(0,1)\n",
    "plt.show()"
   ]
  },
  {
   "cell_type": "code",
   "execution_count": 18,
   "metadata": {},
   "outputs": [
    {
     "data": {
      "image/png": "[encoded data removed]",
      "text/plain": [
       "<Figure size 432x288 with 1 Axes>"
      ]
     },
     "metadata": {
      "needs_background": "light"
     },
     "output_type": "display_data"
    }
   ],
   "source": [
    "#Plot ROC Curve with RF\n",
    "plt.title('Receiver Operating Characteristic with Random Forest')\n",
    "plt.plot(false_positive_rate_r1, true_positive_rate_r1, 'k',label='H-SMOTE AUC = %0.2f'% roc_auc_rf_1)\n",
    "plt.plot(false_positive_rate_r2, true_positive_rate_r2, 'b',label='SMOTE AUC = %0.2f'% roc_auc_rf_2)\n",
    "plt.plot(false_positive_rate_r, true_positive_rate_r, 'm',label='Original AUC = %0.2f'% roc_auc_rf)\n",
    "plt.legend(loc='lower right')\n",
    "plt.plot([0,1],[0,1],'r--')\n",
    "plt.ylabel('True Positive Rate')\n",
    "plt.xlabel('False Positive Rate')\n",
    "plt.xlim(0,1)\n",
    "plt.ylim(0,1)\n",
    "plt.show()"
   ]
  }
 ],
 "metadata": {
  "kernelspec": {
   "display_name": "Python 3",
   "language": "python",
   "name": "python3"
  },
  "language_info": {
   "codemirror_mode": {
    "name": "ipython",
    "version": 3
   },
   "file_extension": ".py",
   "mimetype": "text/x-python",
   "name": "python",
   "nbconvert_exporter": "python",
   "pygments_lexer": "ipython3",
   "version": "3.7.0"
  }
 },
 "nbformat": 4,
 "nbformat_minor": 2
}
